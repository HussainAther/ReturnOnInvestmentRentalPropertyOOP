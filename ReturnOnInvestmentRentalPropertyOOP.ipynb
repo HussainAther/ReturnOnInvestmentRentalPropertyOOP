{
 "cells": [
  {
   "cell_type": "markdown",
   "id": "d755edba",
   "metadata": {},
   "source": [
    "# W4 Friday Project - OOP Calculation of Rental Income (individual project)\n",
    "\n",
    "Here we assume that we have a client coming to us asking for an automated Rental Property Calculator. Our client's name is Brandon from a company called \"Bigger Pockets\". Below, you will find a video of what Brandon usually does to calculate his Rental Property ROI.\n",
    "\n",
    "Using Visual Studio Code/Jupyter Notebook, and Object Oriented Programming create a program that will calculate the Return on Investment(ROI) for a rental property.\n",
    "\n",
    "This project will be completed individually, though you can feel free to share ideas with your fellow students.\n",
    "\n",
    "Once completed, commit the project to github and submit the link to this assignment.\n",
    "\n",
    "also come up with a catch phrase for yourself"
   ]
  },
  {
   "cell_type": "code",
   "execution_count": 1,
   "id": "c1dc05b2",
   "metadata": {},
   "outputs": [],
   "source": [
    "from IPython.core.interactiveshell import InteractiveShell # Import this and run it to dislpay all the output\n",
    "InteractiveShell.ast_node_interactivity = \"all\""
   ]
  },
  {
   "cell_type": "code",
   "execution_count": 2,
   "id": "4dedd926",
   "metadata": {},
   "outputs": [],
   "source": [
    "import requests\n",
    "import matplotlib.pyplot as plt\n",
    "import seaborn as sns\n",
    "\n",
    "class RentalProperty:\n",
    "    def __init__(self, purchase_price, rental_income, laundry_income, storage_income, misc_income,\n",
    "                 taxes, insurance, water_sewer, garbage, electric, gas, hoa_fees, lawn_snow, vacancy,\n",
    "                 repairs, capex, prop_management, mortgage, down_payment, closing_costs, rehab_budget, \n",
    "                 misc_other, ZHVI=None):\n",
    "        # Initialize the rental property object with the given parameters\n",
    "        self.purchase_price = purchase_price\n",
    "        self.rental_income = rental_income\n",
    "        self.laundry_income = laundry_income\n",
    "        self.storage_income = storage_income\n",
    "        self.misc_income = misc_income\n",
    "        self.taxes = taxes\n",
    "        self.insurance = insurance\n",
    "        self.water_sewer = water_sewer\n",
    "        self.garbage = garbage\n",
    "        self.electric = electric\n",
    "        self.gas = gas\n",
    "        self.hoa_fees = hoa_fees\n",
    "        self.lawn_snow = lawn_snow\n",
    "        self.vacancy = vacancy\n",
    "        self.repairs = repairs\n",
    "        self.capex = capex\n",
    "        self.prop_management = prop_management\n",
    "        self.mortgage = mortgage\n",
    "        self.down_payment = down_payment\n",
    "        self.closing_costs = closing_costs\n",
    "        self.rehab_budget = rehab_budget\n",
    "        self.misc_other = misc_other\n",
    "        self.loan = self.purchase_price * 0.80\n",
    "        self.interest_rate = 2.5 \n",
    "        self.mort_term = 360.0\n",
    "        self.down_pmt = self.purchase_price * 0.20\n",
    "        self.rental_income = self.rental_income\n",
    "        self.ins = (self.purchase_price / 10000) * 40\n",
    "        self.vac_all = ZHVI * 0.10 if ZHVI is not None else 0\n",
    "        self.cl_cost = self.purchase_price*0.035\n",
    "\n",
    "    @classmethod\n",
    "    def from_user_input(cls):\n",
    "        print(\"Enter the property details:\")\n",
    "        purchase_price = float(input(\"Purchase price of the property: \"))\n",
    "        rental_income = float(input(\"Monthly rental income: \"))\n",
    "        laundry_income = float(input(\"Income from laundry facilities: \"))\n",
    "        storage_income = float(input(\"Income from storage units: \"))\n",
    "        misc_income = float(input(\"Miscellaneous income: \"))\n",
    "\n",
    "        taxes = float(input(\"Monthly property taxes: \"))\n",
    "        insurance = float(input(\"Monthly insurance costs: \"))\n",
    "        water_sewer = float(input(\"Monthly water and sewer charges: \"))\n",
    "        garbage = float(input(\"Monthly garbage disposal charges: \"))\n",
    "        electric = float(input(\"Monthly electric bill: \"))\n",
    "        gas = float(input(\"Monthly gas bill: \"))\n",
    "        hoa_fees = float(input(\"Monthly HOA fees: \"))\n",
    "        lawn_snow = float(input(\"Monthly lawn care and snow removal costs: \"))\n",
    "        vacancy = float(input(\"Estimated monthly vacancy rate: \"))\n",
    "        repairs = float(input(\"Estimated monthly repair costs: \"))\n",
    "        capex = float(input(\"Monthly capital expenditure reserve: \"))\n",
    "        prop_management = float(input(\"Monthly property management fees: \"))\n",
    "\n",
    "        mortgage = float(input(\"Monthly mortgage payment: \"))\n",
    "        down_payment = float(input(\"Initial down payment made on the property: \"))\n",
    "        closing_costs = float(input(\"Closing costs associated with purchasing the property: \"))\n",
    "        rehab_budget = float(input(\"Budget for property rehabilitation or renovation: \"))\n",
    "        misc_other = float(input(\"Miscellaneous other expenses or costs: \"))\n",
    "\n",
    "        ZHVI = input(\"Enter ZHVI value (optional, press Enter to skip): \")\n",
    "        ZHVI = float(ZHVI) if ZHVI else None\n",
    "\n",
    "        return cls(purchase_price, rental_income, laundry_income, storage_income, misc_income,\n",
    "                   taxes, insurance, water_sewer, garbage, electric, gas, hoa_fees, lawn_snow, vacancy,\n",
    "                   repairs, capex, prop_management, mortgage, down_payment, closing_costs, rehab_budget, misc_other, ZHVI)\n",
    "\n",
    "\n",
    "    def calculate_total_monthly_income(self):\n",
    "        return self.rental_income + self.laundry_income + self.storage_income + self.misc_income\n",
    "\n",
    "    def calculate_total_monthly_expenses(self):\n",
    "        return self.taxes + self.insurance + self.water_sewer + self.garbage + self.electric + self.gas + \\\n",
    "               self.hoa_fees + self.lawn_snow + self.vacancy + self.repairs + self.capex + \\\n",
    "               self.prop_management + self.mortgage\n",
    "\n",
    "    def calculate_cash_flow(self):\n",
    "        total_monthly_income = self.calculate_total_monthly_income()\n",
    "        total_monthly_expenses = self.calculate_total_monthly_expenses()\n",
    "        return (total_monthly_income - total_monthly_expenses) * 12\n",
    "\n",
    "    def calculate_cash_on_cash_return(self):\n",
    "        total_investment_cost = self.down_payment + self.closing_costs + self.rehab_budget + self.misc_other\n",
    "        annual_cash_flow = self.calculate_cash_flow()\n",
    "        return (annual_cash_flow / total_investment_cost) * 100\n",
    "    \n",
    "    @staticmethod\n",
    "    def handle_api_response(response):\n",
    "        headers = response.headers\n",
    "        for header, value in headers.items():\n",
    "            print(f\"{header}: {value}\")\n",
    "        \n",
    "        if response.status_code == 200:  # Assuming a successful response\n",
    "            data = response.json()\n",
    "            # Process the response data as needed\n",
    "            # Example: Access specific fields from the response\n",
    "            content_type = data.get(\"content-type\")\n",
    "            date = data.get(\"date\")\n",
    "            server = data.get(\"server\")\n",
    "            # Print or use the retrieved data\n",
    "            \n",
    "    @staticmethod\n",
    "    def make_api_request(url):\n",
    "        response = requests.get(url)\n",
    "        return response\n",
    "    \n",
    "    def get_api_data(self, url):\n",
    "        response = self.make_api_request(url)\n",
    "        self.handle_api_response(response)\n",
    "        \n",
    "    def visualize_api_data(self, data):\n",
    "        if data is None or not isinstance(data, dict):\n",
    "            print(\"Invalid API data. Cannot visualize.\")\n",
    "            return\n",
    "\n",
    "        keys = list(data.keys())\n",
    "        values = list(data.values())\n",
    "\n",
    "        plt.figure(figsize=(8, 6))\n",
    "        sns.barplot(x=values, y=keys, palette=\"viridis\")\n",
    "        plt.title(\"API Data\")\n",
    "        plt.xlabel(\"Value\")\n",
    "        plt.show()\n",
    "\n",
    "\n",
    "    def visualize_results(self):\n",
    "        labels = [\"Total Monthly Income\", \"Total Monthly Expenses\", \"Annual Cash Flow\", \"Cash on Cash Return\"]\n",
    "        values = [\n",
    "            self.calculate_total_monthly_income(),\n",
    "            self.calculate_total_monthly_expenses(),\n",
    "            self.calculate_cash_flow(),\n",
    "            self.calculate_cash_on_cash_return()\n",
    "        ]\n",
    "\n",
    "        plt.figure(figsize=(8, 6))\n",
    "        sns.barplot(x=values, y=labels, palette=\"viridis\")\n",
    "        plt.title(\"Financial Metrics\")\n",
    "        plt.xlabel(\"Amount ($)\")\n",
    "        plt.show()\n",
    "        \n",
    "    def calculate_roi(self, sale_price):\n",
    "        roi = (sale_price - (self.purchase_price + self.repairs + self.cl_cost)) / (self.purchase_price + self.repairs + self.cl_cost)\n",
    "        return roi\n",
    "    \n",
    "    def calculate_cash_on_cash_return(self):\n",
    "        mort_pmt = self.loan * ((self.interest_rate/12) * (1 + self.interest_rate/12)**self.mort_term) / ((1 + self.interest_rate/12)**self.mort_term - 1)\n",
    "        cash_flow = (12 * self.rental_income - (mort_pmt + self.ins + self.vac_all)) / (self.down_pmt + self.cl_cost)\n",
    "        return cash_flow"
   ]
  },
  {
   "cell_type": "code",
   "execution_count": 4,
   "id": "9f75d6d9",
   "metadata": {},
   "outputs": [
    {
     "name": "stdout",
     "output_type": "stream",
     "text": [
      "Enter the property details:\n",
      "Purchase price of the property: 1\n",
      "Monthly rental income: 1\n",
      "Income from laundry facilities: 1\n",
      "Income from storage units: 1\n",
      "Miscellaneous income: 1\n",
      "Monthly property taxes: 1\n",
      "Monthly insurance costs: 1\n",
      "Monthly water and sewer charges: 1\n",
      "Monthly garbage disposal charges: 1\n",
      "Monthly electric bill: 1\n",
      "Monthly gas bill: 1\n",
      "Monthly HOA fees: 1\n",
      "Monthly lawn care and snow removal costs: 1\n",
      "Estimated monthly vacancy rate: 1\n",
      "Estimated monthly repair costs: 1\n",
      "Monthly capital expenditure reserve: 1\n",
      "Monthly property management fees: 1\n",
      "Monthly mortgage payment: 1\n",
      "Initial down payment made on the property: 1\n",
      "Closing costs associated with purchasing the property: 1\n",
      "Budget for property rehabilitation or renovation: 1\n",
      "Miscellaneous other expenses or costs: 1\n",
      "Enter ZHVI value (optional, press Enter to skip): 1\n",
      "Total Monthly Income: $4.00\n",
      "Total Monthly Expenses: $13.00\n",
      "Annual Cash Flow: $-108.00\n",
      "Cash on Cash Return: 49.91%\n"
     ]
    },
    {
     "data": {
      "image/png": "[encoded data removed]",
      "text/plain": [
       "<Figure size 800x600 with 1 Axes>"
      ]
     },
     "metadata": {},
     "output_type": "display_data"
    },
    {
     "name": "stdout",
     "output_type": "stream",
     "text": [
      "Content-Encoding: gzip\n",
      "Accept-Ranges: bytes\n",
      "Age: 123072\n",
      "Cache-Control: max-age=604800\n",
      "Content-Type: text/html; charset=UTF-8\n",
      "Date: Fri, 16 Jun 2023 19:40:04 GMT\n",
      "Expires: Fri, 23 Jun 2023 19:40:04 GMT\n",
      "Last-Modified: Thu, 15 Jun 2023 09:28:52 GMT\n",
      "Server: ECS (cha/8120)\n",
      "Vary: Accept-Encoding\n",
      "X-Cache: 404-HIT\n",
      "Content-Length: 648\n"
     ]
    }
   ],
   "source": [
    "# Prompt the user for input and create the rental property object\n",
    "property1 = RentalProperty.from_user_input()\n",
    "\n",
    "# Calculate the financial metrics\n",
    "try:\n",
    "    total_monthly_income = property1.calculate_total_monthly_income()\n",
    "    total_monthly_expenses = property1.calculate_total_monthly_expenses()\n",
    "    cash_flow = property1.calculate_cash_flow()\n",
    "    cash_on_cash_return = property1.calculate_cash_on_cash_return()\n",
    "except ZeroDivisionError:\n",
    "    print(\"Error: Division by zero occurred during calculation. Please check your input values.\")\n",
    "    exit()\n",
    "\n",
    "# Print the results\n",
    "print(f\"Total Monthly Income: ${total_monthly_income:.2f}\")\n",
    "print(f\"Total Monthly Expenses: ${total_monthly_expenses:.2f}\")\n",
    "print(f\"Annual Cash Flow: ${cash_flow:.2f}\")\n",
    "print(f\"Cash on Cash Return: {cash_on_cash_return:.2f}%\")\n",
    "\n",
    "# Visualize the results\n",
    "property1.visualize_results()\n",
    "\n",
    "# Make an API request and handle the response\n",
    "api_url = \"https://example.com/api/endpoint\"  # Replace with the actual API endpoint URL\n",
    "property1.get_api_data(api_url)"
   ]
  },
  {
   "cell_type": "markdown",
   "id": "54f4bb5e",
   "metadata": {},
   "source": [
    "# Portfolio\n",
    "\n",
    "Let's create a \"Portfolio\" class that can calculate aggregate financial metrics, such as the overall portfolio cash flow, return on investment, or generate reports for the entire portfolio."
   ]
  },
  {
   "cell_type": "code",
   "execution_count": 6,
   "id": "42bab1a7",
   "metadata": {},
   "outputs": [],
   "source": [
    "class Portfolio:\n",
    "    def __init__(self):\n",
    "        self.properties = []\n",
    "\n",
    "    def add_property(self, property):\n",
    "        self.properties.append(property)\n",
    "\n",
    "    def calculate_portfolio_cash_flow(self):\n",
    "        total_cash_flow = sum(property.calculate_cash_flow() for property in self.properties)\n",
    "        return total_cash_flow\n",
    "\n",
    "    def calculate_portfolio_roi(self):\n",
    "        total_investment = sum(property.down_payment + property.closing_costs + property.rehab_budget + property.misc_other for property in self.properties)\n",
    "        total_cash_flow = self.calculate_portfolio_cash_flow()\n",
    "        return (total_cash_flow / total_investment) * 100\n",
    "\n",
    "    def generate_portfolio_report(self):\n",
    "        print(\"Portfolio Report\")\n",
    "        print(\"================\")\n",
    "        print(\"Properties:\")\n",
    "        for index, property in enumerate(self.properties):\n",
    "            print(f\"Property {index + 1}:\")\n",
    "            print(f\"  Purchase Price: ${property.purchase_price}\")\n",
    "            print(f\"  Cash Flow: ${property.calculate_cash_flow():.2f}\")\n",
    "            print()\n",
    "\n",
    "        total_cash_flow = self.calculate_portfolio_cash_flow()\n",
    "        total_roi = self.calculate_portfolio_roi()\n",
    "\n",
    "        print(\"Aggregate Metrics:\")\n",
    "        print(f\"  Total Cash Flow: ${total_cash_flow:.2f}\")\n",
    "        print(f\"  Return on Investment (ROI): {total_roi:.2f}%\")\n"
   ]
  },
  {
   "cell_type": "markdown",
   "id": "ec40b03d",
   "metadata": {},
   "source": [
    "Example usage:"
   ]
  },
  {
   "cell_type": "code",
   "execution_count": 7,
   "id": "f07160ad",
   "metadata": {},
   "outputs": [
    {
     "name": "stdout",
     "output_type": "stream",
     "text": [
      "Enter the property details:\n",
      "Purchase price of the property: 1\n",
      "Monthly rental income: 1\n",
      "Income from laundry facilities: 1\n",
      "Income from storage units: 1\n",
      "Miscellaneous income: 1\n",
      "Monthly property taxes: 1\n",
      "Monthly insurance costs: 1\n",
      "Monthly water and sewer charges: 1\n",
      "Monthly garbage disposal charges: 1\n",
      "Monthly electric bill: 1\n",
      "Monthly gas bill: 1\n",
      "Monthly HOA fees: 1\n",
      "Monthly lawn care and snow removal costs: 1\n",
      "Estimated monthly vacancy rate: 1\n",
      "Estimated monthly repair costs: 1\n",
      "Monthly capital expenditure reserve: 1\n",
      "Monthly property management fees: 1\n",
      "Monthly mortgage payment: 1\n",
      "Initial down payment made on the property: 1\n",
      "Closing costs associated with purchasing the property: 1\n",
      "Budget for property rehabilitation or renovation: 1\n",
      "Miscellaneous other expenses or costs: 1\n",
      "Enter ZHVI value (optional, press Enter to skip): 1\n",
      "Enter the property details:\n",
      "Purchase price of the property: 1\n",
      "Monthly rental income: 1\n",
      "Income from laundry facilities: 1\n",
      "Income from storage units: 1\n",
      "Miscellaneous income: 1\n",
      "Monthly property taxes: 1\n",
      "Monthly insurance costs: 1\n",
      "Monthly water and sewer charges: 1\n",
      "Monthly garbage disposal charges: 1\n",
      "Monthly electric bill: 1\n",
      "Monthly gas bill: 1\n",
      "Monthly HOA fees: 1\n",
      "Monthly lawn care and snow removal costs: 1\n",
      "Estimated monthly vacancy rate: 1\n",
      "Estimated monthly repair costs: 1\n",
      "Monthly capital expenditure reserve: 1\n",
      "Monthly property management fees: 1\n",
      "Monthly mortgage payment: 1\n",
      "Initial down payment made on the property: 1\n",
      "Closing costs associated with purchasing the property: 1\n",
      "Budget for property rehabilitation or renovation: 1\n",
      "Miscellaneous other expenses or costs: 1\n",
      "Enter ZHVI value (optional, press Enter to skip): 1\n",
      "Portfolio Report\n",
      "================\n",
      "Properties:\n",
      "Property 1:\n",
      "  Purchase Price: $1.0\n",
      "  Cash Flow: $-108.00\n",
      "\n",
      "Property 2:\n",
      "  Purchase Price: $1.0\n",
      "  Cash Flow: $-108.00\n",
      "\n",
      "Aggregate Metrics:\n",
      "  Total Cash Flow: $-216.00\n",
      "  Return on Investment (ROI): -2700.00%\n"
     ]
    }
   ],
   "source": [
    "# Create a portfolio object\n",
    "portfolio = Portfolio()\n",
    "\n",
    "# Add rental properties to the portfolio\n",
    "property1 = RentalProperty.from_user_input()\n",
    "property2 = RentalProperty.from_user_input()\n",
    "portfolio.add_property(property1)\n",
    "portfolio.add_property(property2)\n",
    "\n",
    "# Calculate portfolio financial metrics\n",
    "portfolio_cash_flow = portfolio.calculate_portfolio_cash_flow()\n",
    "portfolio_roi = portfolio.calculate_portfolio_roi()\n",
    "\n",
    "# Generate portfolio report\n",
    "portfolio.generate_portfolio_report()\n"
   ]
  },
  {
   "cell_type": "markdown",
   "id": "6b2215f5",
   "metadata": {},
   "source": [
    "# API Integration test"
   ]
  },
  {
   "cell_type": "markdown",
   "id": "27bad240",
   "metadata": {},
   "source": [
    "Once we get an API key, we can use pyzillow for access to real estate information."
   ]
  },
  {
   "cell_type": "markdown",
   "id": "844cf4e6",
   "metadata": {},
   "source": [
    "We can use a sample API response to test out the ways of retrieving information.\n",
    "\n",
    "Source (copy+pasted from the source) : https://rapidapi.com/s.mahmoud97/api/zillow56\n",
    "\n",
    "\"\"\"\n",
    "\n",
    "Access US and CA property data in JSON, CSV, or Excel formats. Search listings, compare zestimate home values, and discover agent details. US and CA real estate data. Search millions of for-sale and rental listings by address, neighborhood, city, or ZIP code, compare Zestimate home values. Get agents details and their listings. Now offering data retrieval in JSON, CSV, and XLS formats.\n",
    "\n",
    "\"\"\""
   ]
  },
  {
   "cell_type": "markdown",
   "id": "e63397fd",
   "metadata": {},
   "source": [
    "# Visualizing and Feature Engineering from Sample Rental Prices\n",
    "\n",
    "Let's read through some sample input data of the Zillow Home index: \n",
    "\n",
    "Copy+pasted:\n",
    "\n",
    "\"\"\"\n",
    "Zillow Home Value Index (ZHVI): A measure of the typical home value and market changes across a given region and housing type. It reflects the typical value for homes in the 35th to 65th percentile range. Available as a smoothed, seasonally adjusted measure and as a raw measure.\n",
    "\n",
    "Zillow publishes top-tier ZHVI (\\\\$, typical value for homes within the 65th to 95th percentile range for a given region) and bottom-tier ZHVI (\\\\$, typical value for homes within the 5th to 35th percentile range for a given region).\n",
    "\n",
    "Zillow also publishes ZHVI for all single-family residences (\\\\$, typical value for all single-family homes in a given region), for condo/coops (\\\\$), for all homes with 1, 2, 3, 4 and 5+ bedrooms (\\\\$), and the ZHVI per square foot ($, typical value of all homes per square foot calculated by taking the estimated home value for each home in a given region and dividing it by the home’s square footage).\n",
    "\n",
    "Note: Starting with the January 2023 data release, and for all subsequent releases, the full ZHVI time series has been upgraded to harness the power of the neural Zestimate.\n",
    "\n",
    "More information about what ZHVI is and how it’s calculated is available on this overview page. Here’s a handy ZHVI User Guide for information about properly citing and making calculations with this metric.\n",
    "\"\"\"\n",
    "\n",
    "Source https://www.zillow.com/research/data/"
   ]
  },
  {
   "cell_type": "markdown",
   "id": "24e52ab1",
   "metadata": {},
   "source": [
    "Let's visualize the data first. Take a peek at data across different regions for the 2000-01-31 date."
   ]
  },
  {
   "cell_type": "code",
   "execution_count": 8,
   "id": "ba5cecff",
   "metadata": {},
   "outputs": [],
   "source": [
    "import pandas as pd\n",
    "import matplotlib.pyplot as plt\n",
    "\n",
    "# Read the CSV file into a Pandas dataframe\n",
    "df = pd.read_csv(\"Metro_zhvi_uc_sfrcondo_tier_0.33_0.67_sm_sa_month.csv\")\n",
    "\n",
    "# Set the option this way so we can observe all the rows\n",
    "pd.options.display.max_seq_items = 2000\n",
    "\n",
    "# Get a list of each date.\n",
    "yearlist = df.drop([\"RegionID\", \"SizeRank\", \"RegionName\", \"RegionType\",\"StateName\"], axis=1)\n",
    "\n",
    "# Check the column names in the dataframe. These are the dates we're working with. \n",
    "# print(df.columns)"
   ]
  },
  {
   "cell_type": "code",
   "execution_count": 9,
   "id": "cc33599d",
   "metadata": {},
   "outputs": [
    {
     "data": {
      "text/plain": [
       "<AxesSubplot:xlabel='RegionName'>"
      ]
     },
     "execution_count": 9,
     "metadata": {},
     "output_type": "execute_result"
    },
    {
     "data": {
      "text/plain": [
       "Text(0.5, 1.0, 'Metro Home Value Index')"
      ]
     },
     "execution_count": 9,
     "metadata": {},
     "output_type": "execute_result"
    },
    {
     "data": {
      "text/plain": [
       "Text(0.5, 0, 'RegionName')"
      ]
     },
     "execution_count": 9,
     "metadata": {},
     "output_type": "execute_result"
    },
    {
     "data": {
      "text/plain": [
       "Text(0, 0.5, 'Home Value Index')"
      ]
     },
     "execution_count": 9,
     "metadata": {},
     "output_type": "execute_result"
    },
    {
     "data": {
      "image/png": "[encoded data removed]",
      "text/plain": [
       "<Figure size 1000x600 with 1 Axes>"
      ]
     },
     "metadata": {},
     "output_type": "display_data"
    }
   ],
   "source": [
    "# Select the appropriate column for visualization\n",
    "column_name = \"RegionName\"  # Replace with the desired column name from the dataframe\n",
    "\n",
    "# Visualize the dataframe\n",
    "df.plot(x=\"RegionName\", y=\"2000-01-31\", figsize=(10, 6), legend=False)\n",
    "plt.title(\"Metro Home Value Index\")\n",
    "plt.xlabel(column_name)\n",
    "plt.ylabel(\"Home Value Index\")\n",
    "plt.show()\n"
   ]
  },
  {
   "cell_type": "markdown",
   "id": "e62eec0d",
   "metadata": {},
   "source": [
    "Perform feature engineering by extracting relevant information or creating new features based on your domain knowledge. In this case, the code extracts the year, month, and day from the 'Date' column and stores the ZHVI in 'Value'. "
   ]
  },
  {
   "cell_type": "code",
   "execution_count": 10,
   "id": "3571a62e",
   "metadata": {},
   "outputs": [
    {
     "name": "stderr",
     "output_type": "stream",
     "text": [
      "/var/folders/2g/mg4_q7jn3qndbhzmw0pnlhg40000gn/T/ipykernel_81220/2632640709.py:18: PerformanceWarning: DataFrame is highly fragmented.  This is usually the result of calling `frame.insert` many times, which has poor performance.  Consider joining all columns at once using pd.concat(axis=1) instead. To get a de-fragmented frame, use `newframe = frame.copy()`\n",
      "  df['Year'] = df[date_columns[0]].dt.year  # Extract year from the first selected column\n",
      "/var/folders/2g/mg4_q7jn3qndbhzmw0pnlhg40000gn/T/ipykernel_81220/2632640709.py:19: PerformanceWarning: DataFrame is highly fragmented.  This is usually the result of calling `frame.insert` many times, which has poor performance.  Consider joining all columns at once using pd.concat(axis=1) instead. To get a de-fragmented frame, use `newframe = frame.copy()`\n",
      "  df['Month'] = df[date_columns[0]].dt.month  # Extract month from the first selected column\n",
      "/var/folders/2g/mg4_q7jn3qndbhzmw0pnlhg40000gn/T/ipykernel_81220/2632640709.py:20: PerformanceWarning: DataFrame is highly fragmented.  This is usually the result of calling `frame.insert` many times, which has poor performance.  Consider joining all columns at once using pd.concat(axis=1) instead. To get a de-fragmented frame, use `newframe = frame.copy()`\n",
      "  df['Day'] = df[date_columns[0]].dt.day  # Extract day from the first selected column\n"
     ]
    }
   ],
   "source": [
    "from sklearn.model_selection import train_test_split\n",
    "from sklearn.preprocessing import StandardScaler\n",
    "\n",
    "# Read the CSV file into a Pandas dataframe\n",
    "df = pd.read_csv(\"Metro_zhvi_uc_sfrcondo_tier_0.33_0.67_sm_sa_month.csv\")\n",
    "\n",
    "# Perform feature engineering and create new features\n",
    "# You can extract relevant information from existing columns or create new columns based on your domain knowledge\n",
    "# Example: Extract year and month from the column names\n",
    "date_columns = df.columns[5:]  # Select only the columns starting from index 5\n",
    "\n",
    "def convert_to_datetime(date_str):\n",
    "    return pd.to_datetime(date_str, format='%Y-%m-%d')\n",
    "\n",
    "df[date_columns] = df[date_columns].apply(convert_to_datetime)\n",
    "\n",
    "df['Year'] = df[date_columns[0]].dt.year  # Extract year from the first selected column\n",
    "df['Month'] = df[date_columns[0]].dt.month  # Extract month from the first selected column\n",
    "df['Day'] = df[date_columns[0]].dt.day  # Extract day from the first selected column\n",
    "\n",
    "# Reshape the date columns into a single column\n",
    "df_values = df[date_columns].values.reshape(-1)\n",
    "\n",
    "# Assign the reshaped values to the \"Value\" column\n",
    "df['Value'] = df_values[:len(df)]\n",
    "\n",
    "# Define the feature columns and target column\n",
    "# Choose the relevant columns from the dataframe that you want to include as features in your predictive model\n",
    "feature_columns = ['Year', 'Month', 'Day']  # Update with the desired feature columns\n",
    "target_column = 'Value'  # Update with the target column for prediction\n",
    "\n",
    "# Remove rows with missing values\n",
    "df = df.dropna(subset=feature_columns + [target_column])\n",
    "\n",
    "# Split the data into training and testing sets\n",
    "X = df[feature_columns]\n",
    "y = df[target_column]\n",
    "X_train, X_test, y_train, y_test = train_test_split(X, y, test_size=0.2, random_state=42)\n",
    "\n",
    "# Perform any additional preprocessing steps\n",
    "# Example: Scale the feature values using StandardScaler\n",
    "scaler = StandardScaler()\n",
    "X_train_scaled = scaler.fit_transform(X_train)\n",
    "X_test_scaled = scaler.transform(X_test)"
   ]
  },
  {
   "cell_type": "code",
   "execution_count": 11,
   "id": "55bac736",
   "metadata": {},
   "outputs": [
    {
     "data": {
      "text/html": [
       "<style>#sk-container-id-1 {color: black;background-color: white;}#sk-container-id-1 pre{padding: 0;}#sk-container-id-1 div.sk-toggleable {background-color: white;}#sk-container-id-1 label.sk-toggleable__label {cursor: pointer;display: block;width: 100%;margin-bottom: 0;padding: 0.3em;box-sizing: border-box;text-align: center;}#sk-container-id-1 label.sk-toggleable__label-arrow:before {content: \"▸\";float: left;margin-right: 0.25em;color: #696969;}#sk-container-id-1 label.sk-toggleable__label-arrow:hover:before {color: black;}#sk-container-id-1 div.sk-estimator:hover label.sk-toggleable__label-arrow:before {color: black;}#sk-container-id-1 div.sk-toggleable__content {max-height: 0;max-width: 0;overflow: hidden;text-align: left;background-color: #f0f8ff;}#sk-container-id-1 div.sk-toggleable__content pre {margin: 0.2em;color: black;border-radius: 0.25em;background-color: #f0f8ff;}#sk-container-id-1 input.sk-toggleable__control:checked~div.sk-toggleable__content {max-height: 200px;max-width: 100%;overflow: auto;}#sk-container-id-1 input.sk-toggleable__control:checked~label.sk-toggleable__label-arrow:before {content: \"▾\";}#sk-container-id-1 div.sk-estimator input.sk-toggleable__control:checked~label.sk-toggleable__label {background-color: #d4ebff;}#sk-container-id-1 div.sk-label input.sk-toggleable__control:checked~label.sk-toggleable__label {background-color: #d4ebff;}#sk-container-id-1 input.sk-hidden--visually {border: 0;clip: rect(1px 1px 1px 1px);clip: rect(1px, 1px, 1px, 1px);height: 1px;margin: -1px;overflow: hidden;padding: 0;position: absolute;width: 1px;}#sk-container-id-1 div.sk-estimator {font-family: monospace;background-color: #f0f8ff;border: 1px dotted black;border-radius: 0.25em;box-sizing: border-box;margin-bottom: 0.5em;}#sk-container-id-1 div.sk-estimator:hover {background-color: #d4ebff;}#sk-container-id-1 div.sk-parallel-item::after {content: \"\";width: 100%;border-bottom: 1px solid gray;flex-grow: 1;}#sk-container-id-1 div.sk-label:hover label.sk-toggleable__label {background-color: #d4ebff;}#sk-container-id-1 div.sk-serial::before {content: \"\";position: absolute;border-left: 1px solid gray;box-sizing: border-box;top: 0;bottom: 0;left: 50%;z-index: 0;}#sk-container-id-1 div.sk-serial {display: flex;flex-direction: column;align-items: center;background-color: white;padding-right: 0.2em;padding-left: 0.2em;position: relative;}#sk-container-id-1 div.sk-item {position: relative;z-index: 1;}#sk-container-id-1 div.sk-parallel {display: flex;align-items: stretch;justify-content: center;background-color: white;position: relative;}#sk-container-id-1 div.sk-item::before, #sk-container-id-1 div.sk-parallel-item::before {content: \"\";position: absolute;border-left: 1px solid gray;box-sizing: border-box;top: 0;bottom: 0;left: 50%;z-index: -1;}#sk-container-id-1 div.sk-parallel-item {display: flex;flex-direction: column;z-index: 1;position: relative;background-color: white;}#sk-container-id-1 div.sk-parallel-item:first-child::after {align-self: flex-end;width: 50%;}#sk-container-id-1 div.sk-parallel-item:last-child::after {align-self: flex-start;width: 50%;}#sk-container-id-1 div.sk-parallel-item:only-child::after {width: 0;}#sk-container-id-1 div.sk-dashed-wrapped {border: 1px dashed gray;margin: 0 0.4em 0.5em 0.4em;box-sizing: border-box;padding-bottom: 0.4em;background-color: white;}#sk-container-id-1 div.sk-label label {font-family: monospace;font-weight: bold;display: inline-block;line-height: 1.2em;}#sk-container-id-1 div.sk-label-container {text-align: center;}#sk-container-id-1 div.sk-container {/* jupyter's `normalize.less` sets `[hidden] { display: none; }` but bootstrap.min.css set `[hidden] { display: none !important; }` so we also need the `!important` here to be able to override the default hidden behavior on the sphinx rendered scikit-learn.org. See: https://github.com/scikit-learn/scikit-learn/issues/21755 */display: inline-block !important;position: relative;}#sk-container-id-1 div.sk-text-repr-fallback {display: none;}</style><div id=\"sk-container-id-1\" class=\"sk-top-container\"><div class=\"sk-text-repr-fallback\"><pre>LinearRegression()</pre><b>In a Jupyter environment, please rerun this cell to show the HTML representation or trust the notebook. <br />On GitHub, the HTML representation is unable to render, please try loading this page with nbviewer.org.</b></div><div class=\"sk-container\" hidden><div class=\"sk-item\"><div class=\"sk-estimator sk-toggleable\"><input class=\"sk-toggleable__control sk-hidden--visually\" id=\"sk-estimator-id-1\" type=\"checkbox\" checked><label for=\"sk-estimator-id-1\" class=\"sk-toggleable__label sk-toggleable__label-arrow\">LinearRegression</label><div class=\"sk-toggleable__content\"><pre>LinearRegression()</pre></div></div></div></div></div>"
      ],
      "text/plain": [
       "LinearRegression()"
      ]
     },
     "execution_count": 11,
     "metadata": {},
     "output_type": "execute_result"
    }
   ],
   "source": [
    "# Now you can use the preprocessed data for training your predictive models\n",
    "# Feed the X_train_scaled and y_train to your chosen machine learning algorithm\n",
    "\n",
    "# Example: Linear Regression\n",
    "from sklearn.linear_model import LinearRegression\n",
    "\n",
    "model = LinearRegression()\n",
    "model.fit(X_train_scaled, y_train)\n",
    "\n",
    "# Make predictions on the test set\n",
    "y_pred = model.predict(X_test_scaled)"
   ]
  },
  {
   "cell_type": "code",
   "execution_count": 15,
   "id": "312857e8",
   "metadata": {},
   "outputs": [
    {
     "name": "stdout",
     "output_type": "stream",
     "text": [
      "R-squared score: -0.07252828626790175\n"
     ]
    }
   ],
   "source": [
    "from sklearn.metrics import r2_score\n",
    "\n",
    "# Convert datetime values to Unix timestamps (numerical representation of time)\n",
    "y_test = y_test.astype(int)  # Assuming y_test contains datetime values\n",
    "y_pred = y_pred.astype(int)  # Assuming y_pred contains datetime values\n",
    "\n",
    "# Calculate the R-squared score\n",
    "r2 = r2_score(y_test, y_pred)\n",
    "print(\"R-squared score:\", r2)"
   ]
  },
  {
   "cell_type": "markdown",
   "id": "c8fef5a5",
   "metadata": {},
   "source": [
    "## Are we making a good investment? Determine the best places in which to invest."
   ]
  },
  {
   "cell_type": "markdown",
   "id": "c223d7f5",
   "metadata": {},
   "source": [
    "Let's say we want to figure out what's the most profitable area to invest based on ZHVI information. \n",
    "\n",
    "Based on the following criteria, and given the ZHVI and RentalProperty class, determine efficiency of an investment:\n",
    "\n",
    "1. A minimum of 10% ROI\n",
    "* ROI = sale price after 5 years-(purchase price+repair+cl_cost) /(purchase price+repair+cl_cost)\n",
    "* the assumption is that the investor will sell the property after 5 years.\n",
    "* repair = 20,000\n",
    "* cl_cost or closing cost = purchase price(0.035)\n",
    "2. Price to Rent ratio should be between 12 and 25\n",
    "* PTR = median home price / median annual rent\n",
    "* PTR ratio indicates how favorable it would be to rent or own a property. Since our investment intention is to rent out the property before the 5-year period, this would be a good measurement to use to gauge the rental market.\n",
    "* median annual rent will come from the ZHVI.\n",
    "3. A minimum of 8% Cash-on-Cash return (cash flow)\n",
    "* COC = (12(rental) -(mort_pmt + ins + vac_all) / (down_pmt + cl_cost)\n",
    "* mort_pmt or mortgae payment = loan x ((interest rate/12) x (1+interest rate/12))sq(mort_term) / (1+interest rate/12))sq(mort_term)-1)\n",
    "* loan = purchase price(0.80)\n",
    "* interest rate = 2.5\n",
    "* mort_term = 360\n",
    "* ins = (purchase price/100,00)40\n",
    "* vac_all = ZHVI(0.10)\n",
    "* down_pmt = purchase price(0.20)\n",
    "4. The standard deviation of the rental index should be within the 30% and the 60% quantiles. This is to avoid rental markets with high fluctuation in rent.\n",
    "\n",
    "This criteria was adapted from this source on Time Analysis with Zillow data (https://collinloo.medium.com/time-analysis-with-zillow-data-1df3dc539fc2) "
   ]
  },
  {
   "cell_type": "code",
   "execution_count": 16,
   "id": "50a75568",
   "metadata": {},
   "outputs": [
    {
     "name": "stdout",
     "output_type": "stream",
     "text": [
      "The investment does not meet the efficiency criteria.\n"
     ]
    }
   ],
   "source": [
    "import numpy as np\n",
    "\n",
    "# Example property initialization\n",
    "property1 = RentalProperty(\n",
    "    purchase_price=250000, rental_income=2000, laundry_income=0, storage_income=0, misc_income=0,\n",
    "    taxes=0, insurance=0, water_sewer=0, garbage=0, electric=0, gas=0, hoa_fees=0, lawn_snow=0, vacancy=0,\n",
    "    repairs=20000, capex=0, prop_management=0, mortgage=0, down_payment=0.20*250000, closing_costs=0,\n",
    "    rehab_budget=0, misc_other=0, ZHVI=df['Value'].median()\n",
    ")\n",
    "\n",
    "# Criteria for efficiency evaluation\n",
    "min_roi = 0.10\n",
    "min_cash_on_cash_return = 0.08\n",
    "min_ptr = 12\n",
    "max_ptr = 25\n",
    "min_std_dev_rent = np.percentile(df['Value'].std(), 30)\n",
    "max_std_dev_rent = np.percentile(df['Value'].std(), 60)\n",
    "\n",
    "# Example evaluation\n",
    "roi = property1.calculate_roi(sale_price=300000)\n",
    "cash_on_cash_return = property1.calculate_cash_on_cash_return()\n",
    "\n",
    "std_dev_rent = df['Value'].std()\n",
    "\n",
    "# Check if the investment meets the efficiency criteria\n",
    "if roi >= min_roi and cash_on_cash_return >= min_cash_on_cash_return and min_ptr <= property1.purchase_price/df['Value'].median() <= max_ptr and min_std_dev_rent <= std_dev_rent <= max_std_dev_rent:\n",
    "    print(\"The investment meets the efficiency criteria.\")\n",
    "else:\n",
    "    print(\"The investment does not meet the efficiency criteria.\")"
   ]
  }
 ],
 "metadata": {
  "kernelspec": {
   "display_name": "Python 3 (ipykernel)",
   "language": "python",
   "name": "python3"
  },
  "language_info": {
   "codemirror_mode": {
    "name": "ipython",
    "version": 3
   },
   "file_extension": ".py",
   "mimetype": "text/x-python",
   "name": "python",
   "nbconvert_exporter": "python",
   "pygments_lexer": "ipython3",
   "version": "3.10.4"
  }
 },
 "nbformat": 4,
 "nbformat_minor": 5
}
